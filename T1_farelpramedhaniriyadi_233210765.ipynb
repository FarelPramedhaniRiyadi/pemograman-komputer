{
 "cells": [
  {
   "cell_type": "code",
   "execution_count": 2,
   "metadata": {},
   "outputs": [
    {
     "name": "stdout",
     "output_type": "stream",
     "text": [
      "Luas permukaan kubus dengan sisi 5 cm adalah 150 cm^2\n",
      "Volume kubus dengan sisi 5 cm adalah 125 cm^3\n",
      "Luas lingkaran dengan jari-jari 7 cm adalah 153.93804002589985 cm^2\n",
      "Keliling lingkaran dengan jari-jari 7 cm adalah 43.982297150257104 cm\n"
     ]
    }
   ],
   "source": [
    "# Menghitung luas dan volume kubus\n",
    "sisi = 5 # panjang sisi kubus\n",
    "luas_kubus = 6 * sisi**2 # rumus luas permukaan kubus\n",
    "volume_kubus = sisi**3 # rumus volume kubus\n",
    "\n",
    "print(\"Luas permukaan kubus dengan sisi\", sisi, \"cm adalah\", luas_kubus, \"cm^2\")\n",
    "print(\"Volume kubus dengan sisi\", sisi, \"cm adalah\", volume_kubus, \"cm^3\")      \n",
    "\n",
    "\n",
    "#Analisis:\n",
    "#Luas permukaan kubus dihitung dengan rumus 6 * sisi^2, karena kubus memiliki 6 sisi yang masing-masing berbentuk persegi dengan panjang sisi yang sama.\n",
    "# Volume kubus dihitung dengan rumus sisi^3, karena volume kubus merupakan perkalian dari panjang, lebar, dan tinggi yang semuanya sama dengan panjang sisi.\n",
    "#Semakin besar panjang sisi kubus, maka semakin besar pula luas permukaan dan volumenya.\n",
    "\n",
    "\n",
    "\n",
    "# Menghitung luas dan keliling lingkaran\n",
    "import math\n",
    "r = 7 # jari-jari lingkaran\n",
    "luas_lingkaran = math.pi * r**2 # rumus luas lingkaran\n",
    "keliling_lingkaran = 2 * math.pi * r # rumus keliling lingkaran\n",
    "\n",
    "print(\"Luas lingkaran dengan jari-jari\", r, \"cm adalah\", luas_lingkaran, \"cm^2\")\n",
    "print(\"Keliling lingkaran dengan jari-jari\", r, \"cm adalah\", keliling_lingkaran, \"cm\")\n",
    "\n",
    "\n",
    "\n",
    "#Analisis:\n",
    "# Luas lingkaran dihitung dengan rumus π * r^2, di mana π (phi) merupakan konstanta matematika yang nilainya sekitar 3,14.\n",
    "# Keliling lingkaran dihitung dengan rumus 2 * π * r, di mana π (phi) merupakan konstanta matematika yang nilainya sekitar 3,14.\n",
    "# Semakin besar jari-jari lingkaran, maka semakin besar pula luas dan kelilingnya.\n",
    "\n",
    "#Selain itu, kita juga bisa menghitung luas permukaan dan volume bola:\n",
    "\n",
    "# Menghitung luas permukaan dan volume bola\n",
    "#r = 10 # jari-jari bola\n",
    "#luas_permukaan_bola = 4 * math.pi * r**2 # rumus luas permukaan bola\n",
    "#volume_bola = (4/3) * math.pi * r**3 # rumus volume bola\n",
    "\n",
    "#print(\"Luas permukaan bola dengan jari-jari\", r, \"cm adalah\", luas_permukaan_bola, \"cm^2\")\n",
    "#print(\"Volume bola dengan jari-jari\", r, \"cm adalah\", volume_bola, \"cm^3\")\n",
    "\n",
    "#Analisis:\n",
    "#Luas permukaan bola dihitung dengan rumus 4 * π * r^2, di mana π (phi) merupakan konstanta matematika yang nilainya sekitar 3,14.\n",
    "#Volume bola dihitung dengan rumus (4/3) * π * r^3, di mana π (phi) merupakan konstanta matematika yang nilainya sekitar 3,14.\n",
    "#Semakin besar jari-jari bola, maka semakin besar pula luas permukaan dan volumenya.\n",
    "\n"
   ]
  },
  {
   "cell_type": "code",
   "execution_count": 3,
   "metadata": {},
   "outputs": [
    {
     "name": "stdout",
     "output_type": "stream",
     "text": [
      "Nilai pi = 3.14\n",
      "Jari-jari = 7\n",
      "Luas lingkaran = 154.00\n"
     ]
    }
   ],
   "source": [
    "# Mendeklarasikan variabel pi\n",
    "pi = 22/7  # atau pi = 3.14\n",
    "\n",
    "# Mendeklarasikan variabel 'r' dengan input dari pengguna\n",
    "r = 7\n",
    "\n",
    "# Menghitung luas lingkaran\n",
    "luas = pi * r ** 2\n",
    "\n",
    "# Menampilkan nilai pi dan jari-jari\n",
    "print(\"Nilai pi =\", \"{:.2f}\".format(pi))\n",
    "print(\"Jari-jari =\", r)\n",
    "\n",
    "# Menampilkan luas lingkaran dengan dua angka desimal\n",
    "print(\"Luas lingkaran = {:.2f}\".format(luas))\n",
    "\n",
    "#Berikut adalah penjelasan dari kode tersebut:\n",
    "\n",
    "# 1. Deklarasi Variabel*: Program memulai dengan mendeklarasikan variabel pi untuk menyimpan nilai pi,\n",
    "#     yang dapat diatur sebagai 22/7 atau 3.14 sesuai dengan kebutuhan. Variabel r dideklarasikan untuk menyimpan input jari-jari lingkaran yang diberikan oleh pengguna. \n",
    "#     Variabel luas digunakan untuk menyimpan hasil perhitungan luas lingkaran.\n",
    "# 2. Input Pengguna*: Program meminta pengguna untuk memasukkan nilai jari-jari lingkaran dalam bentuk integer menggunakan fungsi input().\n",
    "# 3. Perhitungan Luas Lingkaran*: Luas lingkaran dihitung menggunakan rumus πr^2, dengan pi sebagai nilai pi dan r sebagai jari-jari yang telah dimasukkan oleh pengguna.\n",
    "# 4. Menampilkan Output*: Program menampilkan nilai pi dengan format dua angka desimal menggunakan metode .\n",
    "#   format() untuk memformat nilai pi. Selanjutnya, nilai jari-jari yang dimasukkan oleh pengguna dan hasil perhitungan luas lingkaran ditampilkan dengan dua angka desimal juga\n"
   ]
  }
 ],
 "metadata": {
  "kernelspec": {
   "display_name": "Python 3",
   "language": "python",
   "name": "python3"
  },
  "language_info": {
   "codemirror_mode": {
    "name": "ipython",
    "version": 3
   },
   "file_extension": ".py",
   "mimetype": "text/x-python",
   "name": "python",
   "nbconvert_exporter": "python",
   "pygments_lexer": "ipython3",
   "version": "3.12.2"
  }
 },
 "nbformat": 4,
 "nbformat_minor": 2
}
