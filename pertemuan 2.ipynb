{
 "cells": [
  {
   "cell_type": "markdown",
   "metadata": {},
   "source": [
    "# PERTEMUAN 2"
   ]
  },
  {
   "cell_type": "code",
   "execution_count": 2,
   "metadata": {},
   "outputs": [],
   "source": [
    "nama=\"farelpramedhaniriyadi\"\n",
    "umur=19\n",
    "ipk=3.5\n",
    "nilai=[90,90,90]\n",
    "hobi=(\"mabar\",(\"berenang\"),(\"basket\"))\n",
    "mobil=('mclaren','silver',('bm_805_YG'))"
   ]
  },
  {
   "cell_type": "code",
   "execution_count": 10,
   "metadata": {},
   "outputs": [
    {
     "name": "stdout",
     "output_type": "stream",
     "text": [
      "farelpramedhaniriyadi <class 'str'>\n",
      "19 <class 'int'>\n",
      "3.5 <class 'float'>\n",
      "[90, 90, 90] <class 'list'>\n",
      "('mabar', 'berenang', 'basket') <class 'tuple'>\n",
      "('mclaren', 'silver', 'bm_805_YG') <class 'tuple'>\n"
     ]
    }
   ],
   "source": [
    "print(nama, type(nama))\n",
    "print(umur, type(umur))\n",
    "print(ipk, type(ipk))\n",
    "print(nilai, type(nilai))\n",
    "print(hobi, type(hobi))\n",
    "print(mobil, type(mobil))"
   ]
  },
  {
   "cell_type": "code",
   "execution_count": 13,
   "metadata": {},
   "outputs": [
    {
     "name": "stdout",
     "output_type": "stream",
     "text": [
      "a+b=  12\n",
      "a-b=  -2\n",
      "a*b=  35\n",
      "a/b=  0.7142857142857143\n",
      "a%b=  5\n"
     ]
    }
   ],
   "source": [
    "a=int(input(\"a adalah\"))\n",
    "b=int(input(\"b adalah\"))\n",
    "\n",
    "penjumlahan = a + b\n",
    "pengurangan = a - b \n",
    "perkalian = a * b\n",
    "pembagian = a / b \n",
    "modulus = a % b\n",
    "\n",
    "print(\"a+b= \",penjumlahan)\n",
    "print(\"a-b= \",pengurangan)\n",
    "print(\"a*b= \",perkalian)\n",
    "print(\"a/b= \",pembagian)\n",
    "print(\"a%b= \",modulus)\n"
   ]
  },
  {
   "cell_type": "code",
   "execution_count": 14,
   "metadata": {},
   "outputs": [
    {
     "name": "stdout",
     "output_type": "stream",
     "text": [
      "False\n",
      "True\n",
      "False\n",
      "True\n",
      "False\n",
      "True\n"
     ]
    }
   ],
   "source": [
    "a = 25\n",
    "b = 35\n",
    "\n",
    "print(a == b)\n",
    "print(a != b)\n",
    "print(a > b)\n",
    "print(a < b)\n",
    "print(a >= b)\n",
    "print(a <= b)\n"
   ]
  },
  {
   "cell_type": "markdown",
   "metadata": {},
   "source": [
    "# OPERATOR LOGIKA\n"
   ]
  },
  {
   "cell_type": "code",
   "execution_count": 15,
   "metadata": {},
   "outputs": [
    {
     "name": "stdout",
     "output_type": "stream",
     "text": [
      "True\n",
      "True\n",
      "True\n"
     ]
    }
   ],
   "source": [
    "a = 2\n",
    "b = 1\n",
    "c = 5\n",
    "\n",
    "print((a > b) and (c > b))\n",
    "print((a > b) or (c > b))\n",
    "print(not(b>b))\n",
    "\n",
    "      "
   ]
  },
  {
   "cell_type": "code",
   "execution_count": null,
   "metadata": {},
   "outputs": [],
   "source": []
  }
 ],
 "metadata": {
  "kernelspec": {
   "display_name": "Python 3",
   "language": "python",
   "name": "python3"
  },
  "language_info": {
   "codemirror_mode": {
    "name": "ipython",
    "version": 3
   },
   "file_extension": ".py",
   "mimetype": "text/x-python",
   "name": "python",
   "nbconvert_exporter": "python",
   "pygments_lexer": "ipython3",
   "version": "3.12.2"
  }
 },
 "nbformat": 4,
 "nbformat_minor": 2
}
